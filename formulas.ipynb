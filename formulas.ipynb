{
 "cells": [
  {
   "cell_type": "markdown",
   "id": "2952a7af-8831-4176-a0fd-1e28ec505188",
   "metadata": {},
   "source": [
    "# Formulas"
   ]
  },
  {
   "cell_type": "markdown",
   "id": "58ecd058-e99a-47c9-a91f-4cd8753deb09",
   "metadata": {},
   "source": [
    "Standard Error (Deviation) One is approx: 68% of data\n",
    "\n",
    "SE(D) Two is approx: 95% of data\n",
    "\n",
    "SE(D) Three is approx: 99.7% of data"
   ]
  },
  {
   "cell_type": "markdown",
   "id": "5224d3a6-a98f-45d6-a07d-245da914e9a7",
   "metadata": {},
   "source": [
    "## Unicode Symbols"
   ]
  },
  {
   "cell_type": "markdown",
   "id": "3619ddb0-cbeb-4cb5-aa0a-66c397efdebc",
   "metadata": {},
   "source": [
    "- x̄ x & #772; (X-Bar)\n",
    "- p̂ p & #770; (P-hat)\n",
    "- Σ\t& Sigma; or ∑ (Sigma Sum Sign)\n",
    "- Π\t& Pi; or ∏ (Pi Product Sign)\n",
    "- μ\t& mu; or µ (mu mean sign)\n",
    "- σ\t& sigma; (sigma standard deviation)\n",
    "- χ\t& chi; (chi)\n",
    "\n",
    "*be sure to remove spaces to get unicode chars*"
   ]
  },
  {
   "cell_type": "code",
   "execution_count": null,
   "id": "98e60ef4-ee8e-4c7a-ab61-f40b3bc63fe8",
   "metadata": {},
   "outputs": [],
   "source": []
  }
 ],
 "metadata": {
  "kernelspec": {
   "display_name": "Python 3 (ipykernel)",
   "language": "python",
   "name": "python3"
  },
  "language_info": {
   "codemirror_mode": {
    "name": "ipython",
    "version": 3
   },
   "file_extension": ".py",
   "mimetype": "text/x-python",
   "name": "python",
   "nbconvert_exporter": "python",
   "pygments_lexer": "ipython3",
   "version": "3.10.6"
  }
 },
 "nbformat": 4,
 "nbformat_minor": 5
}
