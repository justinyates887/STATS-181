{
 "cells": [
  {
   "cell_type": "markdown",
   "id": "12371004-8f1e-4238-af29-9edb99315806",
   "metadata": {},
   "source": [
    "# Probability"
   ]
  },
  {
   "cell_type": "code",
   "execution_count": 17,
   "id": "4c77bb15-0766-49b6-bc8c-207ef277bbaa",
   "metadata": {},
   "outputs": [],
   "source": [
    "import pandas as pd\n",
    "import numpy as np\n",
    "import seaborn as sea\n",
    "import matplotlib.pyplot as plt"
   ]
  },
  {
   "cell_type": "markdown",
   "id": "17e340c1-e0da-4171-9b52-9f3e8bd1fde8",
   "metadata": {},
   "source": [
    "### Randomness:"
   ]
  },
  {
   "cell_type": "markdown",
   "id": "9308fec0-477a-4928-9ebf-c3767d13656b",
   "metadata": {},
   "source": [
    "Randomness is no detectible or predictable pattern. People are not good at creating random. More often than not, we rely on computers to create truly random tables."
   ]
  },
  {
   "cell_type": "markdown",
   "id": "853e3f05-695e-4e8a-8f57-7c7f5e804c5c",
   "metadata": {},
   "source": [
    "### The Coin Flip"
   ]
  },
  {
   "cell_type": "markdown",
   "id": "f5d50826-b304-42a7-8542-7886d996c3c5",
   "metadata": {},
   "source": [
    "Based on to flips of a U.S Connecticut Quarter, the results were as follows:"
   ]
  },
  {
   "cell_type": "code",
   "execution_count": 4,
   "id": "7ddd73e5-5b41-4b9c-8319-e2b38da17e9e",
   "metadata": {},
   "outputs": [],
   "source": [
    "heads_ten = 4\n",
    "tails_ten = 6\n",
    "heads_hundred = 48\n",
    "tails_hundred = 52"
   ]
  },
  {
   "cell_type": "markdown",
   "id": "087e498f-3cea-4655-899c-b1c7eb9d9843",
   "metadata": {},
   "source": [
    "The above results were my personal results. "
   ]
  },
  {
   "cell_type": "markdown",
   "id": "6207996b-aaf2-4333-b0af-81aaf0badba1",
   "metadata": {},
   "source": [
    "Those results would be our emirical probability, once the probability is calculated. We use empirical probability to test our theoretical probability."
   ]
  },
  {
   "cell_type": "markdown",
   "id": "1f5a72e5-44eb-434a-a91c-76e40cf713b2",
   "metadata": {},
   "source": [
    "### The Dice Toss"
   ]
  },
  {
   "cell_type": "code",
   "execution_count": 21,
   "id": "0f218f64-c42d-4d70-a018-7acae702a236",
   "metadata": {},
   "outputs": [],
   "source": [
    "dice = pd.DataFrame({\n",
    "                    '1': [1,2,3,4,5,6,7],\n",
    "                    '2': [2,3,4,5,6,7,8],\n",
    "                    '3': [3,4,5,6,7,8,9],\n",
    "                    '4': [4,5,6,7,8,9,10],\n",
    "                    '5': [5,6,7,8,9,10,11],\n",
    "                    '6': [6,7,8,9,10,11,12],\n",
    "                    }, columns = ['1','2','3','4','5','6'])"
   ]
  },
  {
   "cell_type": "code",
   "execution_count": 24,
   "id": "d46d4cd4-f1e0-4f79-9159-4d0d4b00080a",
   "metadata": {},
   "outputs": [],
   "source": [
    "dice = dice.iloc[1: , :]"
   ]
  },
  {
   "cell_type": "code",
   "execution_count": 25,
   "id": "d4ca5366-756c-4819-ba7d-b8c78a9e9f75",
   "metadata": {},
   "outputs": [
    {
     "data": {
      "text/plain": [
       "<AxesSubplot:>"
      ]
     },
     "execution_count": 25,
     "metadata": {},
     "output_type": "execute_result"
    },
    {
     "data": {
      "image/png": "[encoded data removed]",
      "text/plain": [
       "<Figure size 640x480 with 2 Axes>"
      ]
     },
     "metadata": {},
     "output_type": "display_data"
    }
   ],
   "source": [
    "sea.heatmap(dice, linewidth=0.5, annot=True)"
   ]
  },
  {
   "cell_type": "markdown",
   "id": "16290feb-76db-41a7-bd3c-3027522bcfef",
   "metadata": {},
   "source": [
    "We can see from the heatmap that 7 has the highest prbability of being rolled when rolling two dice."
   ]
  },
  {
   "cell_type": "markdown",
   "id": "65c054c0-e764-4379-ab1f-f053856ae014",
   "metadata": {},
   "source": [
    "### Probability Details:"
   ]
  },
  {
   "cell_type": "markdown",
   "id": "8e03a40d-87d8-426d-9819-e7aa131572dc",
   "metadata": {},
   "source": [
    "Probability will always be between 0 and 1, often expressed as a percentage or ratio. Probability is usually expressed as P(A) = % or decimal. This is read as the probability of a is..."
   ]
  },
  {
   "cell_type": "markdown",
   "id": "a6d4175b-fa2d-4097-a5a9-efd8bd5e330a",
   "metadata": {},
   "source": [
    "A **complement** is the probability of the event not occuring, or the inverse of probability. This is expressed as A^c. You get A^c by taking 1 - P(A)"
   ]
  },
  {
   "cell_type": "markdown",
   "id": "3842b2d4-21c3-41c3-87bf-d903f5f09ff8",
   "metadata": {},
   "source": [
    "**Sample Space** is the set of all possible outcomes, or the area of your data."
   ]
  },
  {
   "cell_type": "markdown",
   "id": "79631467-07d1-4e43-abc3-dd4141d8f44e",
   "metadata": {},
   "source": [
    "**Event** is the specific criteria you are looking for. For example; in the coin toss example and event would be flipping heads. In the dice example an event could be rolling an even number, or rolling a 6."
   ]
  },
  {
   "cell_type": "markdown",
   "id": "128e801d-a9f7-44fe-990e-4bfc6de643f5",
   "metadata": {},
   "source": [
    "**Theoretical Probability** is calculated by taking the outcome of an event over the sample space. For instance, if we were to take the theoretical probabilty of rolling a seven on two sets of die, it would be 6 chances to roll a seven out of our sample size over our sample size of 36, so the probability is:"
   ]
  },
  {
   "cell_type": "code",
   "execution_count": 28,
   "id": "f8319d88-15c8-4ea4-a12e-85a7fea12928",
   "metadata": {},
   "outputs": [
    {
     "data": {
      "text/plain": [
       "0.1944"
      ]
     },
     "execution_count": 28,
     "metadata": {},
     "output_type": "execute_result"
    }
   ],
   "source": [
    "seven_prob = round(7/36,4)\n",
    "seven_prob"
   ]
  },
  {
   "cell_type": "markdown",
   "id": "ad3fa791-eb37-47fd-b920-724d3388845b",
   "metadata": {},
   "source": [
    "roughly 19.4% chance"
   ]
  },
  {
   "cell_type": "markdown",
   "id": "95406cef-83c4-4bd6-80da-f45dcdca7fd2",
   "metadata": {},
   "source": [
    "**Mutally Exclusive Events** are events that do not overlap in their data sets."
   ]
  },
  {
   "cell_type": "code",
   "execution_count": null,
   "id": "dfa642c8-a757-4486-9e44-e8921b6d8fae",
   "metadata": {},
   "outputs": [],
   "source": []
  }
 ],
 "metadata": {
  "kernelspec": {
   "display_name": "Python 3 (ipykernel)",
   "language": "python",
   "name": "python3"
  },
  "language_info": {
   "codemirror_mode": {
    "name": "ipython",
    "version": 3
   },
   "file_extension": ".py",
   "mimetype": "text/x-python",
   "name": "python",
   "nbconvert_exporter": "python",
   "pygments_lexer": "ipython3",
   "version": "3.10.6"
  }
 },
 "nbformat": 4,
 "nbformat_minor": 5
}
