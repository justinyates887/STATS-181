{
 "cells": [
  {
   "cell_type": "markdown",
   "id": "4d712918-6790-4615-bc15-a20e00365f9c",
   "metadata": {},
   "source": [
    "# Chapter 7"
   ]
  },
  {
   "cell_type": "code",
   "execution_count": 4,
   "id": "734b5f9f-52cf-4377-acfd-a61a43ce578d",
   "metadata": {},
   "outputs": [],
   "source": [
    "from math import sqrt"
   ]
  },
  {
   "cell_type": "markdown",
   "id": "67a15954-9745-41ac-9611-2f01b9c2ec4e",
   "metadata": {},
   "source": [
    "### Survey Sampling & Inference"
   ]
  },
  {
   "cell_type": "markdown",
   "id": "e060d577-75a7-4ee5-bb9e-aa3ee0642be9",
   "metadata": {},
   "source": [
    "A statistician must use accuracy and precision to measure the quality of a survey. One must describe the important features of sampling distribution, including the standard error (std).\n"
   ]
  },
  {
   "cell_type": "markdown",
   "id": "d470e3bc-2e50-4698-87c6-42617f0c0805",
   "metadata": {},
   "source": [
    "### The Central Limit Theorem"
   ]
  },
  {
   "cell_type": "markdown",
   "id": "649c67a9-0d36-433f-967f-2850ebcbf742",
   "metadata": {},
   "source": [
    "This theorem is used to estimate proportions in a population. It tells us that, if some basic conditions are met, the sampling distribution of the sample proportion is close to the Normal distribution."
   ]
  },
  {
   "cell_type": "markdown",
   "id": "e2583f64-5d19-44b4-83ad-ac4ef0bd1382",
   "metadata": {},
   "source": [
    "If we take a random sample from a population, and if the sample size is large and the population size is much larger, the sampling distribution of p^ is approximately Normal with a mean of p and a std of:"
   ]
  },
  {
   "cell_type": "markdown",
   "id": "fec4869c-0700-48b7-8a60-1a1551496af0",
   "metadata": {},
   "source": [
    "SE = sqrt(p(1-p) / n)"
   ]
  },
  {
   "cell_type": "markdown",
   "id": "93fe28a6-598e-4368-8f7a-e7226e465e1d",
   "metadata": {},
   "source": [
    "#### Conditions for CLT"
   ]
  },
  {
   "cell_type": "markdown",
   "id": "407a32cd-3688-4eff-9928-8c197fb39d38",
   "metadata": {},
   "source": [
    "1) Sampling is random and independant\n",
    "2) Large sample: The sample size, n , is large enough that the sample expects at least 10 successes and 10 failures\n",
    "3) Big population: If sampling is done without replacement, the population must be at least 10x larger than the sample size."
   ]
  },
  {
   "cell_type": "markdown",
   "id": "8aca3953-189d-4f65-b178-bbcf48376f0b",
   "metadata": {},
   "source": [
    "np^ >= 10 AND n(1-p^) >= 10"
   ]
  },
  {
   "cell_type": "markdown",
   "id": "b18de71a-0b10-4402-981b-d498a359fc70",
   "metadata": {},
   "source": [
    "#### Example: Vegetarians"
   ]
  },
  {
   "cell_type": "markdown",
   "id": "f5d8d3a5-15c4-4119-9f0d-9ec76bef6b09",
   "metadata": {},
   "source": [
    "According to statisticbrain.com, 59% of vegetarians are women. Suppose a random sample of 500 vegetarians is taken. What is the approx probability that the proportion of "
   ]
  },
  {
   "cell_type": "markdown",
   "id": "0041f85a-a3c4-4853-90d1-4b2cb09eb1ef",
   "metadata": {},
   "source": [
    "Step 1) We must check conditions: \n",
    "\n",
    "- The sample was random and independant\n",
    "- There is a large sample size: 500(.59) = 295, and 295 > 10\n",
    "- We can assert that there are at least 10(500) = 5000 vegetarians in the population.\n",
    "- CLT has been met, therefore the distribution should be approximatly normal:"
   ]
  },
  {
   "cell_type": "code",
   "execution_count": 12,
   "id": "f6ea8b00-4022-4eb2-afa5-9b3c7b908190",
   "metadata": {},
   "outputs": [
    {
     "data": {
      "text/plain": [
       "0.022"
      ]
     },
     "execution_count": 12,
     "metadata": {},
     "output_type": "execute_result"
    }
   ],
   "source": [
    "SE= sqrt((0.59*0.41)/500)\n",
    "round(SE,4)"
   ]
  },
  {
   "cell_type": "markdown",
   "id": "9ed44dc2-9d4f-4b6b-9241-3a03ed9f63bd",
   "metadata": {},
   "source": [
    "To find the probability that the population in the sample is greater than 63%, we can use technology to find the probability of getting a value larger than 0.63 in a N(0.59, 0.022) distribution."
   ]
  },
  {
   "cell_type": "markdown",
   "id": "fbe23448-4c3a-42d8-816a-e9e8f73e454a",
   "metadata": {},
   "source": [
    "According to calculations, there is only a 3.45% chance of receiving those results again. Based on that, we can assume those results are unlikely."
   ]
  },
  {
   "cell_type": "markdown",
   "id": "3b1aac1a-2e81-4a19-ae4a-1ac9dfee53c8",
   "metadata": {},
   "source": [
    "### Key Idea"
   ]
  },
  {
   "cell_type": "markdown",
   "id": "60a6614e-c81d-4161-b579-dfee0f0f48ec",
   "metadata": {},
   "source": [
    "The Central Limit Theorem tells us whether or not the study is presenting accurate results, allowing us to determine if the data can accuratley represent a population of people. "
   ]
  }
 ],
 "metadata": {
  "kernelspec": {
   "display_name": "Python 3 (ipykernel)",
   "language": "python",
   "name": "python3"
  },
  "language_info": {
   "codemirror_mode": {
    "name": "ipython",
    "version": 3
   },
   "file_extension": ".py",
   "mimetype": "text/x-python",
   "name": "python",
   "nbconvert_exporter": "python",
   "pygments_lexer": "ipython3",
   "version": "3.10.6"
  }
 },
 "nbformat": 4,
 "nbformat_minor": 5
}
