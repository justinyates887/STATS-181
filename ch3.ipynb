{
 "cells": [
  {
   "cell_type": "markdown",
   "id": "bb9d0e6f-612b-4395-841b-2b1e674114c0",
   "metadata": {},
   "source": [
    "# Chapter 3"
   ]
  },
  {
   "cell_type": "code",
   "execution_count": 3,
   "id": "96e3b393-c886-4127-b3ae-8b0dd62e7b80",
   "metadata": {},
   "outputs": [],
   "source": [
    "import pandas as pd\n",
    "import matplotlib.pyplot as plt\n",
    "import numpy as np"
   ]
  },
  {
   "cell_type": "code",
   "execution_count": 4,
   "id": "e60c24d2-038c-4728-8beb-b5209a139fce",
   "metadata": {},
   "outputs": [],
   "source": [
    "data = np.array([3.19,3.09,3.09,2.93,2.95,3.09,2.99,2.99,2.95,2.97])"
   ]
  },
  {
   "cell_type": "code",
   "execution_count": 5,
   "id": "e740dc96-8394-4dc2-874d-37195b568451",
   "metadata": {},
   "outputs": [
    {
     "data": {
      "text/plain": [
       "array([3.19, 3.09, 3.09, 2.93, 2.95, 3.09, 2.99, 2.99, 2.95, 2.97])"
      ]
     },
     "execution_count": 5,
     "metadata": {},
     "output_type": "execute_result"
    }
   ],
   "source": [
    "data"
   ]
  },
  {
   "cell_type": "code",
   "execution_count": 6,
   "id": "9d821850-c8dd-4e70-bce0-4c929af0f900",
   "metadata": {},
   "outputs": [
    {
     "data": {
      "text/plain": [
       "3.024"
      ]
     },
     "execution_count": 6,
     "metadata": {},
     "output_type": "execute_result"
    }
   ],
   "source": [
    "data.mean()"
   ]
  },
  {
   "cell_type": "code",
   "execution_count": 10,
   "id": "1cd8fee4-044c-4302-8a10-701e71ce1561",
   "metadata": {},
   "outputs": [
    {
     "data": {
      "text/plain": [
       "0.08101851640211626"
      ]
     },
     "execution_count": 10,
     "metadata": {},
     "output_type": "execute_result"
    }
   ],
   "source": [
    "data.std()"
   ]
  },
  {
   "cell_type": "code",
   "execution_count": 11,
   "id": "af540d2e-7db7-43d7-bbdc-1c86663a8767",
   "metadata": {},
   "outputs": [
    {
     "data": {
      "text/plain": [
       "0.006563999999999981"
      ]
     },
     "execution_count": 11,
     "metadata": {},
     "output_type": "execute_result"
    }
   ],
   "source": [
    "data.var()"
   ]
  },
  {
   "cell_type": "code",
   "execution_count": 12,
   "id": "705d4e9f-5e94-41cd-8ea1-0438e844aaa6",
   "metadata": {},
   "outputs": [
    {
     "data": {
      "text/plain": [
       "2.99"
      ]
     },
     "execution_count": 12,
     "metadata": {},
     "output_type": "execute_result"
    }
   ],
   "source": [
    "np.median(data)"
   ]
  },
  {
   "cell_type": "code",
   "execution_count": 13,
   "id": "f186c577-b61c-42e8-a4cb-1825d5f4c111",
   "metadata": {},
   "outputs": [
    {
     "data": {
      "text/plain": [
       "2.93"
      ]
     },
     "execution_count": 13,
     "metadata": {},
     "output_type": "execute_result"
    }
   ],
   "source": [
    "data.min()"
   ]
  },
  {
   "cell_type": "code",
   "execution_count": 14,
   "id": "56672955-0ac7-4bef-add3-cc9db8ca8485",
   "metadata": {},
   "outputs": [
    {
     "data": {
      "text/plain": [
       "3.19"
      ]
     },
     "execution_count": 14,
     "metadata": {},
     "output_type": "execute_result"
    }
   ],
   "source": [
    "data.max()"
   ]
  },
  {
   "cell_type": "code",
   "execution_count": 28,
   "id": "b3327580-3154-4ae1-aa0a-d9bfdb984abd",
   "metadata": {},
   "outputs": [
    {
     "data": {
      "image/png": "[encoded data removed]",
      "text/plain": [
       "<Figure size 640x480 with 1 Axes>"
      ]
     },
     "metadata": {},
     "output_type": "display_data"
    }
   ],
   "source": [
    "plt.hist(data, bins=[2.6,2.8,3,3.2,3.4])\n",
    "plt.show()"
   ]
  },
  {
   "cell_type": "code",
   "execution_count": 66,
   "id": "69678337-fc48-4248-8276-436bd274e6bc",
   "metadata": {},
   "outputs": [
    {
     "data": {
      "image/png": "[encoded data removed]",
      "text/plain": [
       "<Figure size 640x480 with 1 Axes>"
      ]
     },
     "metadata": {},
     "output_type": "display_data"
    }
   ],
   "source": [
    "plt.boxplot(data)\n",
    "plt.show()"
   ]
  },
  {
   "cell_type": "markdown",
   "id": "009b7c56-13ea-48c7-a73e-5e79944c62c3",
   "metadata": {},
   "source": [
    "### Measuring the Spread"
   ]
  },
  {
   "cell_type": "markdown",
   "id": "60215d55-410a-43f4-9949-b48be7798b72",
   "metadata": {},
   "source": [
    "It is important when looking at data to see how far from the center we are. This can help us see trends and outliers"
   ]
  },
  {
   "cell_type": "markdown",
   "id": "6d02492b-dd5f-435e-9021-5711fa2cd4e8",
   "metadata": {},
   "source": [
    "### What is Standard Deviation?"
   ]
  },
  {
   "cell_type": "markdown",
   "id": "e8620921-d5b2-4390-90ae-da06982563df",
   "metadata": {},
   "source": [
    "Standard deviation is a number that measures how far awat the typical observation is from the mean, or center of the data.\n",
    "\n",
    "You take the difference in the data value from the mean of the entire data (squared so the negatives don't affect the result) and then average all of those differences together."
   ]
  },
  {
   "cell_type": "markdown",
   "id": "7318c040-a2c4-46d1-aaf9-dbbac4d12fc0",
   "metadata": {},
   "source": [
    "### The Empirical Rule"
   ]
  },
  {
   "cell_type": "markdown",
   "id": "c0a85ae5-652d-4847-a511-3fb26bdf8785",
   "metadata": {},
   "source": [
    "68% of you data will fit within one standard deviation. 95% willfit within the second, and 99.7% will fit within the third."
   ]
  },
  {
   "cell_type": "markdown",
   "id": "19dbd15d-f2ab-4738-b0ab-9282de9ceafb",
   "metadata": {},
   "source": [
    "**z-score** is how many standard deviations an obseved data value is form the mean"
   ]
  },
  {
   "cell_type": "markdown",
   "id": "51597f34-abc7-462f-b12c-f0bf9c83cddd",
   "metadata": {},
   "source": [
    "z-score formula is distance from mean over standard deviation"
   ]
  },
  {
   "cell_type": "markdown",
   "id": "635006f8-de67-492a-9722-8088d8059db4",
   "metadata": {},
   "source": [
    "### Notes"
   ]
  },
  {
   "cell_type": "markdown",
   "id": "98ecdf31-f723-43a5-94d2-2a5fb3d38c9f",
   "metadata": {},
   "source": [
    "If your mean is greater than your median, your graph should be right skewed, and vice-versa."
   ]
  },
  {
   "cell_type": "markdown",
   "id": "0b275f00-f750-48a0-ab80-20d85a942f03",
   "metadata": {},
   "source": [
    "**Inner-Quartile Range** the middle 50% of your data."
   ]
  },
  {
   "cell_type": "markdown",
   "id": "a40d156b-4590-4f45-ab49-0953fea991e9",
   "metadata": {},
   "source": [
    "When choosing a measure: If your shape is symmetirc, use mean for the center measure and std for spread. If it is skewed, use median for center and iqr for spread."
   ]
  },
  {
   "cell_type": "markdown",
   "id": "a10b9598-58d9-4a93-9914-6d79bc3514a7",
   "metadata": {},
   "source": [
    "Median and IQR are unaffected by outliers"
   ]
  },
  {
   "cell_type": "code",
   "execution_count": 60,
   "id": "1a2db319-fd9c-4286-8824-000702a90a3e",
   "metadata": {},
   "outputs": [
    {
     "data": {
      "text/plain": [
       "30.0"
      ]
     },
     "execution_count": 60,
     "metadata": {},
     "output_type": "execute_result"
    }
   ],
   "source": [
    "pay = np.array([16,16,16,16,16,100])\n",
    "pay.mean()"
   ]
  },
  {
   "cell_type": "code",
   "execution_count": 62,
   "id": "9c2f837c-61bb-43ce-8071-8bbdbf50c14e",
   "metadata": {},
   "outputs": [
    {
     "data": {
      "text/plain": [
       "16.0"
      ]
     },
     "execution_count": 62,
     "metadata": {},
     "output_type": "execute_result"
    }
   ],
   "source": [
    "np.median(pay)"
   ]
  },
  {
   "cell_type": "code",
   "execution_count": 65,
   "id": "8b820d54-243b-4bc5-a788-669906df72dd",
   "metadata": {},
   "outputs": [
    {
     "data": {
      "text/plain": [
       "0.0"
      ]
     },
     "execution_count": 65,
     "metadata": {},
     "output_type": "execute_result"
    }
   ],
   "source": [
    "q3, q1 = np.percentile(pay, [75 ,25])\n",
    "iqr = q3 - q1\n",
    "iqr"
   ]
  },
  {
   "cell_type": "markdown",
   "id": "56b6baa0-8f8c-456f-b96e-215891ad7c04",
   "metadata": {},
   "source": [
    "The IQR is 0 because there is no spread."
   ]
  },
  {
   "cell_type": "code",
   "execution_count": null,
   "id": "5a7b35f0-6298-4594-b899-199b3359290f",
   "metadata": {},
   "outputs": [],
   "source": []
  }
 ],
 "metadata": {
  "kernelspec": {
   "display_name": "Python 3 (ipykernel)",
   "language": "python",
   "name": "python3"
  },
  "language_info": {
   "codemirror_mode": {
    "name": "ipython",
    "version": 3
   },
   "file_extension": ".py",
   "mimetype": "text/x-python",
   "name": "python",
   "nbconvert_exporter": "python",
   "pygments_lexer": "ipython3",
   "version": "3.10.6"
  }
 },
 "nbformat": 4,
 "nbformat_minor": 5
}
