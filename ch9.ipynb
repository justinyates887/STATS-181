{
 "cells": [
  {
   "cell_type": "markdown",
   "id": "85a05786-e3a4-41d0-bb82-86f6f9869b69",
   "metadata": {},
   "source": [
    "# Chapter 9"
   ]
  },
  {
   "cell_type": "markdown",
   "id": "5b83b8c7-5711-4e7b-9b9d-ae207ac3491b",
   "metadata": {},
   "source": [
    "### Central limit Theorem for Sample Means"
   ]
  },
  {
   "cell_type": "code",
   "execution_count": 3,
   "id": "99581cbb-1e70-46e3-8ae8-2d23c595b7ae",
   "metadata": {},
   "outputs": [],
   "source": [
    "from scipy.stats import norm"
   ]
  },
  {
   "cell_type": "markdown",
   "id": "359b9df8-a6c5-4dbf-be7d-cb47f02b996a",
   "metadata": {},
   "source": [
    "*Extends Ch.7* \n",
    "\n",
    "If certain conditions are met, we can accuratley predict a standard distribution from an abnormal dataset by breaking it down into a smaller, random sample size."
   ]
  },
  {
   "cell_type": "markdown",
   "id": "5ad2df66-c541-4e94-bee7-acc16d3753ea",
   "metadata": {},
   "source": [
    "**Conditions to check** \n",
    "\n",
    "- Random Sample and Independence\n",
    "- Large Sample\n",
    "- Big Population"
   ]
  },
  {
   "cell_type": "markdown",
   "id": "911821d5-801f-4d6b-835e-24ccd77e1dac",
   "metadata": {},
   "source": [
    "If the three conditions are met, then the sampling distribution of x_ is approximately:"
   ]
  },
  {
   "cell_type": "markdown",
   "id": "777cdb7d-04b8-4eb2-a6e0-92bf40e039a4",
   "metadata": {},
   "source": [
    "N(u, o/sqrt(n))"
   ]
  },
  {
   "cell_type": "markdown",
   "id": "534ad505-3593-4884-8db7-b6acd7e56b2d",
   "metadata": {},
   "source": [
    "The larger the sample size, the better the approximation. If the population is normal to begin with, then the sampling distribution is exactly a Normal distribution, regardless of the sample size."
   ]
  },
  {
   "cell_type": "markdown",
   "id": "91a709ea-d6ad-4c5e-88ce-52d82a971086",
   "metadata": {},
   "source": [
    "#### Example: Weight of 10 yo Boys"
   ]
  },
  {
   "cell_type": "markdown",
   "id": "f0a3d8a1-df32-4225-bfd3-f3b7b4056eb5",
   "metadata": {},
   "source": [
    "Mean weight = 88.3lbs\n",
    "STD 2.06lbs\n",
    "\n",
    "Assume normal dist.\n",
    "\n",
    "Q1) Can we take a sample of 30 boys; Can we find the approx probability that the average weight of the sample will be above 89lbs?\n",
    "\n",
    "A) Random & Independant, large sample size, and big population are all met. Normal CDF is .0313"
   ]
  },
  {
   "cell_type": "markdown",
   "id": "1b61dc4e-0c11-4135-8db2-774a9c63751c",
   "metadata": {},
   "source": [
    "How to calculate cdf with scipy.norm:"
   ]
  },
  {
   "cell_type": "code",
   "execution_count": null,
   "id": "f464e2eb-b52e-4e11-bd97-37f0a29f60c8",
   "metadata": {},
   "outputs": [],
   "source": []
  }
 ],
 "metadata": {
  "kernelspec": {
   "display_name": "Python 3 (ipykernel)",
   "language": "python",
   "name": "python3"
  },
  "language_info": {
   "codemirror_mode": {
    "name": "ipython",
    "version": 3
   },
   "file_extension": ".py",
   "mimetype": "text/x-python",
   "name": "python",
   "nbconvert_exporter": "python",
   "pygments_lexer": "ipython3",
   "version": "3.10.6"
  }
 },
 "nbformat": 4,
 "nbformat_minor": 5
}
