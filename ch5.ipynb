{
 "cells": [
  {
   "cell_type": "markdown",
   "id": "5e75a355-f374-4cbc-ac49-ad3e28642afa",
   "metadata": {},
   "source": [
    "# Chapter 5"
   ]
  },
  {
   "cell_type": "markdown",
   "id": "8aa03149-cd68-4535-8730-02209b012533",
   "metadata": {},
   "source": [
    "### Randomness"
   ]
  },
  {
   "cell_type": "markdown",
   "id": "8b90544c-099f-4319-bca0-5609340842d1",
   "metadata": {},
   "source": [
    "Randomness, in statistics, is the concept of assign numbers, values, or dependant variables to the data without any recognizable pattern. This means that there is no likeliness of the assignments to occur more than any other.\n",
    "\n",
    "True randomness is difficult for humans to contrive, therefore we rely on technology or number tables to control our assignments."
   ]
  },
  {
   "cell_type": "markdown",
   "id": "57967192-b2e4-4512-b898-836d8c7676cc",
   "metadata": {},
   "source": [
    "> *See probability.ipynb*"
   ]
  },
  {
   "cell_type": "code",
   "execution_count": null,
   "id": "facc47e4-7736-475f-b5c4-f8c64d56bfd3",
   "metadata": {},
   "outputs": [],
   "source": []
  }
 ],
 "metadata": {
  "kernelspec": {
   "display_name": "Python 3 (ipykernel)",
   "language": "python",
   "name": "python3"
  },
  "language_info": {
   "codemirror_mode": {
    "name": "ipython",
    "version": 3
   },
   "file_extension": ".py",
   "mimetype": "text/x-python",
   "name": "python",
   "nbconvert_exporter": "python",
   "pygments_lexer": "ipython3",
   "version": "3.10.6"
  }
 },
 "nbformat": 4,
 "nbformat_minor": 5
}
