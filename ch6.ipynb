{
 "cells": [
  {
   "cell_type": "markdown",
   "id": "65533957-b506-4dae-acc9-fa5c8e77db99",
   "metadata": {},
   "source": [
    "# Chapter 6"
   ]
  },
  {
   "cell_type": "markdown",
   "id": "00110493-296c-4bcf-a134-dbb334179c1b",
   "metadata": {},
   "source": [
    "### Probability Distributions"
   ]
  },
  {
   "cell_type": "markdown",
   "id": "51214ef2-4367-4675-beba-8cbc9c9c525e",
   "metadata": {},
   "source": [
    "A probability distribution, sometimes called a probability distribution function \n",
    "(pdf), is a tool that helps us by keeping track of the outcomes of a random  experiment \n",
    "and the probabilities associated with those outcomes."
   ]
  },
  {
   "cell_type": "code",
   "execution_count": null,
   "id": "556c11ce-e861-49ec-8660-4913137525dc",
   "metadata": {},
   "outputs": [],
   "source": []
  }
 ],
 "metadata": {
  "kernelspec": {
   "display_name": "Python 3 (ipykernel)",
   "language": "python",
   "name": "python3"
  },
  "language_info": {
   "codemirror_mode": {
    "name": "ipython",
    "version": 3
   },
   "file_extension": ".py",
   "mimetype": "text/x-python",
   "name": "python",
   "nbconvert_exporter": "python",
   "pygments_lexer": "ipython3",
   "version": "3.10.6"
  }
 },
 "nbformat": 4,
 "nbformat_minor": 5
}
